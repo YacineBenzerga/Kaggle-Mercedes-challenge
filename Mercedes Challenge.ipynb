{
 "cells": [
  {
   "cell_type": "code",
   "execution_count": null,
   "metadata": {},
   "outputs": [],
   "source": [
    "import numpy as np\n",
    "import pandas as pd\n",
    "\n",
    "#load data\n",
    "train = pd.read_csv('train.csv')\n",
    "test = pd.read_csv('test.csv')\n",
    "all_data = pd.concat((train.loc[:, 'X0':'X385'] , test.loc[:, 'X0':'X385']))\n",
    "all_data = pd.get_dummies(all_data)\n",
    "\n",
    "#Separate train,test\n",
    "X_train = all_data[:train.shape[0]]\n",
    "X_test = all_data[train.shape[0]:]\n",
    "y = train['y']\n",
    "\n",
    "#Dimensionality Reduction/Regularization\n",
    "from sklearn.linear_model import LassoCV\n",
    "model_lasso = LassoCV(cv=5).fit(X_train, y)\n",
    "\n",
    "from sklearn.feature_selection import SelectFromModel\n",
    "model = SelectFromModel(model_lasso, prefit=True)\n",
    "X_train_red = model.transform(X_train)\n",
    "X_test_red = model.transform(X_test)\n",
    "\n",
    "\n",
    "#Modeling\n",
    "from sklearn.linear_model import Lasso,Ridge,ElasticNet\n",
    "from sklearn.svm import SVR\n",
    "from sklearn.ensemble import RandomForestRegressor\n",
    "from xgboost import XGBRegressor\n",
    "from sklearn.model_selection import cross_val_score , KFold\n",
    "\n",
    "models = [('Ridge' , Ridge()),\n",
    "         ('Lasso' , Lasso()),\n",
    "         ('Elastic Net' , ElasticNet()),\n",
    "         ('SVR' , SVR(kernel='rbf')),\n",
    "         ('RF_regressor' , RandomForestRegressor()),\n",
    "         ('Xgboost_regressor' , XGBRegressor()),\n",
    "         ]\n",
    "\n",
    "\n",
    "kf = KFold(10)\n",
    "scores = []\n",
    "for m in models:\n",
    "    this_score = cross_val_score(m[1], X_train_red, y, cv = kf, scoring='r2' , n_jobs=-1)\n",
    "    print('%s R2 score is %.3f +/- %.3f' % (m[0] , np.mean(this_score) , np.std(this_score)))\n",
    "    \n",
    "    \n",
    "#Hyper parameter tuning on XGBRegressor\n",
    "xgb = XGBRegressor()\n",
    "from sklearn.grid_search import GridSearchCV\n",
    "param_grid_xgb = {'n_estimators':[20,35,50,100] , 'max_depth':[3,6,9]  ,'min_child_weight':[1,5,15]}\n",
    "grid_xgb = GridSearchCV(xgb , param_grid_xgb , cv=7 , scoring='r2',n_jobs=-1)\n",
    "grid_xgb.fit(X_train_red,y)\n",
    "print('GS best score %.3f' % grid_xgb.best_score_)\n",
    "print('GS best params {}'.format(grid_xgb.best_params_))\n",
    "\n",
    "#Using best params to predict test data\n",
    "xgb_gs = grid_xgb.best_estimator_\n",
    "xgb_gs.fit(X_train_red ,y)\n",
    "y_pred = xgb_gs.predict(X_test_red)\n",
    "solution = pd.DataFrame({'ID':test['ID'] , 'y':y_pred})\n",
    "solution.to_csv('Mercedes_xgb_gs.csv' , index=False)\n",
    "\n",
    "\n",
    "#Public R2 Score on kaggle 0.54635\n",
    "#Private R2 Score on kaggle 0.54517\n",
    "#Best score on kaggle 0.55550"
   ]
  },
  {
   "cell_type": "code",
   "execution_count": null,
   "metadata": {
    "collapsed": true
   },
   "outputs": [],
   "source": []
  }
 ],
 "metadata": {
  "kernelspec": {
   "display_name": "Python 3",
   "language": "python",
   "name": "python3"
  },
  "language_info": {
   "codemirror_mode": {
    "name": "ipython",
    "version": 3
   },
   "file_extension": ".py",
   "mimetype": "text/x-python",
   "name": "python",
   "nbconvert_exporter": "python",
   "pygments_lexer": "ipython3",
   "version": "3.6.1"
  }
 },
 "nbformat": 4,
 "nbformat_minor": 2
}
